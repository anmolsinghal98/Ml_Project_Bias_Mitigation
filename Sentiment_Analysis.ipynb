{
 "cells": [
  {
   "cell_type": "code",
   "execution_count": 8,
   "metadata": {},
   "outputs": [],
   "source": [
    "import json\n",
    "import matplotlib.pyplot as plt\n",
    "import numpy as np\n",
    "import pystan\n",
    "import random\n",
    "import seaborn as sns \n",
    "import scipy.stats as stats\n",
    "from statsmodels.graphics.gofplots import qqplot\n",
    "from vaderSentiment.vaderSentiment import SentimentIntensityAnalyzer"
   ]
  },
  {
   "cell_type": "code",
   "execution_count": 3,
   "metadata": {},
   "outputs": [],
   "source": [
    "path='reviews_Amazon_Instant_Video_5.json'\n",
    "\n",
    "data=[]\n",
    "for line in open(path,'r'):\n",
    "    data.append(json.loads(line))"
   ]
  },
  {
   "cell_type": "code",
   "execution_count": 4,
   "metadata": {},
   "outputs": [
    {
     "name": "stdout",
     "output_type": "stream",
     "text": [
      "{'reviewerID': 'A11N155CW1UV02', 'asin': 'B000H00VBQ', 'reviewerName': 'AdrianaM', 'helpful': [0, 0], 'reviewText': \"I had big expectations because I love English TV, in particular Investigative and detective stuff but this guy is really boring. It didn't appeal to me at all.\", 'overall': 2.0, 'summary': 'A little bit boring for me', 'unixReviewTime': 1399075200, 'reviewTime': '05 3, 2014'}\n"
     ]
    }
   ],
   "source": [
    "print(data[0])"
   ]
  },
  {
   "cell_type": "code",
   "execution_count": 5,
   "metadata": {},
   "outputs": [],
   "source": [
    "reviews=[]\n",
    "for d in data:\n",
    "    reviews.append(d['reviewText'])"
   ]
  },
  {
   "cell_type": "code",
   "execution_count": 16,
   "metadata": {},
   "outputs": [
    {
     "name": "stdout",
     "output_type": "stream",
     "text": [
      "I highly recommend this series. It is a must for anyone who is yearning to watch \"grown up\" television. Complex characters and plots to keep one totally involved. Thank you Amazin Prime.\n"
     ]
    }
   ],
   "source": [
    "print(reviews[1])"
   ]
  },
  {
   "cell_type": "code",
   "execution_count": 39,
   "metadata": {},
   "outputs": [
    {
     "name": "stdout",
     "output_type": "stream",
     "text": [
      "{'neg': 0.0, 'neu': 0.415, 'pos': 0.585, 'compound': 0.9538}\n",
      "0.9538\n",
      "Funny, interesting, a great way to pass time. I usually enjoy standup comedy and is this is a good show for me. {'neg': 0.0, 'neu': 0.415, 'pos': 0.585, 'compound': 0.9538}\n",
      "4.9076\n"
     ]
    }
   ],
   "source": [
    "analyser = SentimentIntensityAnalyzer()\n",
    "\n",
    "def sentiment_analyzer_scores(sentence):\n",
    "    score = analyser.polarity_scores(sentence)\n",
    "    print(score)\n",
    "    print(score['compound'])\n",
    "    cscore=score['compound']\n",
    "    print(\"{:-<40} {}\".format(sentence, str(score)))\n",
    "    inputlow=-1\n",
    "    inputhigh=1\n",
    "    outputlow=1\n",
    "    outputhigh=5\n",
    "    cscore=((cscore-inputlow)/(inputhigh-inputlow))*(outputhigh-outputlow)+outputlow\n",
    "    return cscore\n",
    "    \n",
    "score=sentiment_analyzer_scores(reviews[10])\n",
    "print(score)"
   ]
  },
  {
   "cell_type": "code",
   "execution_count": 31,
   "metadata": {},
   "outputs": [
    {
     "name": "stdout",
     "output_type": "stream",
     "text": [
      "{'neg': 0.0, 'neu': 0.51, 'pos': 0.49, 'compound': 0.9776}\n",
      "0.9776\n",
      "This is the best of the best comedy Stand-up. The fact that I was able to just watch continuously one comedian after another was great. I had the best laughter I have had in a long time. {'neg': 0.0, 'neu': 0.51, 'pos': 0.49, 'compound': 0.9776}\n"
     ]
    }
   ],
   "source": [
    "sentiment_analyzer_scores(reviews[8])"
   ]
  },
  {
   "cell_type": "code",
   "execution_count": 26,
   "metadata": {},
   "outputs": [
    {
     "name": "stdout",
     "output_type": "stream",
     "text": [
      "None\n"
     ]
    }
   ],
   "source": []
  },
  {
   "cell_type": "code",
   "execution_count": null,
   "metadata": {},
   "outputs": [],
   "source": [
    "def sentiment_analyzer_scores(analyser,sentence):\n",
    "    score = analyser.polarity_scores(sentence)\n",
    "    cscore=score['compound']\n",
    "    inputlow=-1\n",
    "    inputhigh=1\n",
    "    outputlow=1\n",
    "    outputhigh=5\n",
    "    cscore=((cscore-inputlow)/(inputhigh-inputlow))*(outputhigh-outputlow)+outputlow\n",
    "    return cscore"
   ]
  }
 ],
 "metadata": {
  "kernelspec": {
   "display_name": "Python 3",
   "language": "python",
   "name": "python3"
  },
  "language_info": {
   "codemirror_mode": {
    "name": "ipython",
    "version": 3
   },
   "file_extension": ".py",
   "mimetype": "text/x-python",
   "name": "python",
   "nbconvert_exporter": "python",
   "pygments_lexer": "ipython3",
   "version": "3.7.4"
  }
 },
 "nbformat": 4,
 "nbformat_minor": 2
}
